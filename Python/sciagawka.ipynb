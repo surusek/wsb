{
 "cells": [
  {
   "attachments": {},
   "cell_type": "markdown",
   "metadata": {},
   "source": [
    "Zwrócenie aktualnej ścieżki roboczej (gdzie są zapisane/czytane pliki)"
   ]
  },
  {
   "cell_type": "code",
   "execution_count": 51,
   "metadata": {},
   "outputs": [
    {
     "data": {
      "text/plain": [
       "'c:\\\\Users\\\\studentwsb\\\\Desktop\\\\_Surusek_\\\\wsb\\\\Python'"
      ]
     },
     "execution_count": 51,
     "metadata": {},
     "output_type": "execute_result"
    }
   ],
   "source": [
    "import os\n",
    "os.getcwd()"
   ]
  },
  {
   "attachments": {},
   "cell_type": "markdown",
   "metadata": {},
   "source": [
    "Rodzaje zmiennych i ich przypisywanie"
   ]
  },
  {
   "cell_type": "code",
   "execution_count": 52,
   "metadata": {},
   "outputs": [
    {
     "name": "stdout",
     "output_type": "stream",
     "text": [
      "<class 'str'>\n",
      "<class 'int'>\n",
      "<class 'float'>\n",
      "<class 'complex'>\n",
      "<class 'bool'>\n"
     ]
    }
   ],
   "source": [
    "# Komentarz zwykły\n",
    "''' \n",
    "Komentarz\n",
    "wielolinijkowy (nadaje się również do dłuższych stringów)\n",
    "'''\n",
    "\n",
    "a = 'Napis' # String\n",
    "b = 1234    # Integer\n",
    "c = 1.0     # Float\n",
    "d = 1j      # Complex (zespolona)\n",
    "e = False   # Boolean\n",
    "\n",
    "print(type(a))\n",
    "print(type(b))\n",
    "print(type(c))\n",
    "print(type(d))\n",
    "print(type(e))\n",
    "\n",
    "# Można wypisać wartości po kolei:\n",
    "x, y = 'foo', 1234"
   ]
  },
  {
   "attachments": {},
   "cell_type": "markdown",
   "metadata": {},
   "source": [
    "Operatory (te nieoczywiste)"
   ]
  },
  {
   "cell_type": "code",
   "execution_count": 53,
   "metadata": {},
   "outputs": [
    {
     "data": {
      "text/plain": [
       "2"
      ]
     },
     "execution_count": 53,
     "metadata": {},
     "output_type": "execute_result"
    }
   ],
   "source": [
    "5 // 2 # Dzielenie całkowite"
   ]
  },
  {
   "cell_type": "code",
   "execution_count": 54,
   "metadata": {},
   "outputs": [
    {
     "data": {
      "text/plain": [
       "2.5"
      ]
     },
     "execution_count": 54,
     "metadata": {},
     "output_type": "execute_result"
    }
   ],
   "source": [
    "5 / 2 # Dzielenie: zawsze zwraca liczbę zmiennoprzecinkową"
   ]
  },
  {
   "cell_type": "code",
   "execution_count": 55,
   "metadata": {},
   "outputs": [
    {
     "data": {
      "text/plain": [
       "125"
      ]
     },
     "execution_count": 55,
     "metadata": {},
     "output_type": "execute_result"
    }
   ],
   "source": [
    "5 ** 3 # Potęgowanie"
   ]
  },
  {
   "attachments": {},
   "cell_type": "markdown",
   "metadata": {},
   "source": [
    "Przykład wyliczania: **BMI**"
   ]
  },
  {
   "cell_type": "code",
   "execution_count": 56,
   "metadata": {},
   "outputs": [
    {
     "name": "stdout",
     "output_type": "stream",
     "text": [
      "22.786458333333336\n"
     ]
    }
   ],
   "source": [
    "waga = 84\n",
    "wzrost = 1.92\n",
    "bmi = waga / (wzrost * wzrost)\n",
    "print(bmi)"
   ]
  },
  {
   "attachments": {},
   "cell_type": "markdown",
   "metadata": {},
   "source": [
    "Tablice"
   ]
  },
  {
   "cell_type": "code",
   "execution_count": 57,
   "metadata": {},
   "outputs": [
    {
     "name": "stdout",
     "output_type": "stream",
     "text": [
      "Jabłko\n",
      "Śliwka\n",
      "['Gruszka', 'Czereśnia']\n"
     ]
    }
   ],
   "source": [
    "lista = ['Jabłko', 'Gruszka', 'Czereśnia', 'Śliwka']\n",
    "print(lista[0])   # Po indeksie\n",
    "print(lista[-1])  # Od końca\n",
    "print(lista[1:3]) # Przedział"
   ]
  },
  {
   "cell_type": "code",
   "execution_count": 58,
   "metadata": {},
   "outputs": [
    {
     "name": "stdout",
     "output_type": "stream",
     "text": [
      "['Jabłko', 'Gruszka', 'Czereśnia', 'Śliwka', 'Śliwka']\n",
      "['Jabłko', 'Gruszka', 'Czereśnia', 'Śliwka']\n",
      "['Jabłko', 'Banan', 'Gruszka', 'Czereśnia', 'Śliwka']\n"
     ]
    }
   ],
   "source": [
    "lista.append('Śliwka')   # Dodaje na koniec listy\n",
    "print(lista)\n",
    "\n",
    "lista.remove('Śliwka')   # Usuwa pierwszy, który znajdzie\n",
    "print(lista)\n",
    "\n",
    "lista.insert(1, 'Banan') # Dorzucana na pozycję podaną w pierwszym argumencie (tu: 1)\n",
    "print(lista)"
   ]
  },
  {
   "cell_type": "code",
   "execution_count": 59,
   "metadata": {},
   "outputs": [
    {
     "name": "stdout",
     "output_type": "stream",
     "text": [
      "[1, 2, 3, 4, 5, 6]\n"
     ]
    }
   ],
   "source": [
    "l1 = [1, 2, 3]\n",
    "l2 = [4, 5, 6]\n",
    "l3 = l1 + l2   # Można dodawać do sb\n",
    "print(l3)"
   ]
  },
  {
   "attachments": {},
   "cell_type": "markdown",
   "metadata": {},
   "source": [
    "Krotki (`tuple`)"
   ]
  },
  {
   "cell_type": "code",
   "execution_count": 60,
   "metadata": {},
   "outputs": [
    {
     "name": "stdout",
     "output_type": "stream",
     "text": [
      "<class 'tuple'>\n"
     ]
    }
   ],
   "source": [
    "krotka = ('Jabłko', 'Banan', 'Gruszka', 'Czereśnia', \"Śliwka\")\n",
    "print(type(krotka))"
   ]
  },
  {
   "cell_type": "code",
   "execution_count": 61,
   "metadata": {},
   "outputs": [
    {
     "name": "stdout",
     "output_type": "stream",
     "text": [
      "5\n"
     ]
    }
   ],
   "source": [
    "# Przechodzenie przez elementy, dodawanie elementów są takie jak przy tablicach\n",
    "print(len(krotka)) # Wypisuje rozmiar: działa nie tylko na tuplach, ale też np. tablicach"
   ]
  },
  {
   "attachments": {},
   "cell_type": "markdown",
   "metadata": {},
   "source": [
    "Zamiana pomiędzy typami"
   ]
  },
  {
   "cell_type": "code",
   "execution_count": 62,
   "metadata": {},
   "outputs": [
    {
     "name": "stdout",
     "output_type": "stream",
     "text": [
      "<class 'str'>\n",
      "<class 'int'>\n",
      "<class 'float'>\n"
     ]
    }
   ],
   "source": [
    "x = str(5)\n",
    "y = int(5)\n",
    "z = float(5)\n",
    "\n",
    "print(type(x))\n",
    "print(type(y))\n",
    "print(type(z))"
   ]
  },
  {
   "attachments": {},
   "cell_type": "markdown",
   "metadata": {},
   "source": [
    "Zbiór (`set`)"
   ]
  },
  {
   "cell_type": "code",
   "execution_count": 63,
   "metadata": {},
   "outputs": [
    {
     "name": "stdout",
     "output_type": "stream",
     "text": [
      "{'Jabłko', 'Banan', 'Malina', 'Czereśnia', 'Gruszka', 'Śliwka'}\n"
     ]
    }
   ],
   "source": [
    "zbior = {'Jabłko', 'Banan', 'Śliwka', 'Gruszka', \"Malina\", 'Czereśnia', 'Śliwka', 'Śliwka'}\n",
    "print(zbior) # Powinna być tylko jedna śliwka: zbiory nie mają duplikatów\n",
    "             # Zbiory także nie są posortowane: mogą byc wypisane w dowolnej kolejności"
   ]
  },
  {
   "cell_type": "code",
   "execution_count": 64,
   "metadata": {},
   "outputs": [
    {
     "name": "stdout",
     "output_type": "stream",
     "text": [
      "{'Jabłko', 'Banan', 'Malina', 'Czereśnia', 'Truskawka', 'Gruszka', 'Śliwka'}\n",
      "{'Jabłko', 'Banan', 'Czereśnia', 'Truskawka', 'Gruszka', 'Śliwka'}\n"
     ]
    }
   ],
   "source": [
    "zbior.add('Truskawka') # Dodaj element\n",
    "print(zbior)\n",
    "\n",
    "zbior.remove('Malina') # Usuń pierwszy element\n",
    "print(zbior)"
   ]
  },
  {
   "cell_type": "code",
   "execution_count": 65,
   "metadata": {},
   "outputs": [],
   "source": [
    "s1 = {1, 2, 3}\n",
    "s2 = {3, 4, 5}\n",
    "s3 = s1.union(s2) # Unia (łączenie zbiorów)"
   ]
  },
  {
   "cell_type": "code",
   "execution_count": 66,
   "metadata": {},
   "outputs": [
    {
     "name": "stdout",
     "output_type": "stream",
     "text": [
      "True\n"
     ]
    }
   ],
   "source": [
    "# Sprawdź, czy element jest w tablicy/krotce/zbiorze...\n",
    "print(4 in s3)"
   ]
  },
  {
   "attachments": {},
   "cell_type": "markdown",
   "metadata": {},
   "source": [
    "Słowniki (`dict`)"
   ]
  },
  {
   "cell_type": "code",
   "execution_count": 67,
   "metadata": {},
   "outputs": [
    {
     "name": "stdout",
     "output_type": "stream",
     "text": [
      "<class 'dict'>\n"
     ]
    }
   ],
   "source": [
    "slownik = {'Ania': 22, 'Marek': 66, 'Basia': 18}\n",
    "print(type(slownik))"
   ]
  },
  {
   "cell_type": "code",
   "execution_count": 68,
   "metadata": {},
   "outputs": [
    {
     "name": "stdout",
     "output_type": "stream",
     "text": [
      "dict_keys(['Ania', 'Marek', 'Basia'])\n",
      "dict_values([22, 66, 18])\n",
      "dict_items([('Ania', 22), ('Marek', 66), ('Basia', 18)])\n",
      "{'Ania': 22, 'Marek': 66, 'Basia': 44}\n",
      "{'Ania': 22, 'Basia': 44}\n"
     ]
    }
   ],
   "source": [
    "print(slownik.keys())   # Klucze   (jako tablica)\n",
    "print(slownik.values()) # Wartości (jako tablica)\n",
    "print(slownik.items())  # Elementy (jako tablica tupli klucz-wartość)\n",
    "\n",
    "slownik.update({'Basia': 44}) # Aktualizuj dane w słowniku zawartością z drugiego\n",
    "print(slownik)\n",
    "\n",
    "del slownik['Marek'] # Usuń element o danym kluczu\n",
    "print(slownik)"
   ]
  },
  {
   "attachments": {},
   "cell_type": "markdown",
   "metadata": {},
   "source": [
    "Warunki (`if`...`else`)"
   ]
  },
  {
   "cell_type": "code",
   "execution_count": 69,
   "metadata": {},
   "outputs": [
    {
     "name": "stdout",
     "output_type": "stream",
     "text": [
      "a jest mniejsze od b\n"
     ]
    }
   ],
   "source": [
    "a = 17\n",
    "b = 18\n",
    "\n",
    "if a > b:     # Jeżeli większe\n",
    "    print('a jest większe od b')\n",
    "elif a == b:  # Niespełnione: jeżeli równe\n",
    "    print('a jest równe b')\n",
    "else:         # W innym przypadku\n",
    "    print('a jest mniejsze od b')"
   ]
  },
  {
   "attachments": {},
   "cell_type": "markdown",
   "metadata": {},
   "source": [
    "Pętle `while` i `for`"
   ]
  },
  {
   "cell_type": "code",
   "execution_count": 70,
   "metadata": {},
   "outputs": [
    {
     "name": "stdout",
     "output_type": "stream",
     "text": [
      "1\n",
      "2\n",
      "3\n",
      "4\n",
      "5\n",
      "6\n",
      "7\n",
      "8\n",
      "9\n"
     ]
    }
   ],
   "source": [
    "# Pętla `while`\n",
    "i = 1\n",
    "while i < 10:\n",
    "    print(i)\n",
    "    i += 1"
   ]
  },
  {
   "cell_type": "code",
   "execution_count": 71,
   "metadata": {},
   "outputs": [
    {
     "name": "stdout",
     "output_type": "stream",
     "text": [
      "['Banan', 'Marchewka', 'Poziomka']\n",
      "['Banan', 'Marchewka', 'Poziomka']\n",
      "['Banan', 'Marchewka', 'Poziomka']\n"
     ]
    }
   ],
   "source": [
    "# Pętla `for`: pozwala na przechodzenie po elementach tablicy, tupli, zbioru...\n",
    "owoce = ['Banan', \"Marchewka\", \"Poziomka\"]\n",
    "for i in owoce:\n",
    "    print(owoce)"
   ]
  },
  {
   "cell_type": "code",
   "execution_count": 72,
   "metadata": {},
   "outputs": [
    {
     "name": "stdout",
     "output_type": "stream",
     "text": [
      "0\n",
      "1\n",
      "2\n",
      "3\n",
      "4\n",
      "\n",
      "4\n",
      "5\n",
      "6\n",
      "7\n",
      "8\n",
      "9\n",
      "\n",
      "4\n",
      "6\n",
      "8\n",
      "\n"
     ]
    }
   ],
   "source": [
    "# Pętla `for` z zakresem\n",
    "for x in range(5):        # [1, 5)\n",
    "    print(x)\n",
    "print() # Pusta linia\n",
    "\n",
    "for x in range(4, 10):    # [4, 10)\n",
    "    print(x)\n",
    "print()\n",
    "\n",
    "for x in range(4, 10, 2): # {4, 6, 8}\n",
    "    print(x)\n",
    "print()"
   ]
  },
  {
   "cell_type": "code",
   "execution_count": 73,
   "metadata": {},
   "outputs": [
    {
     "name": "stdout",
     "output_type": "stream",
     "text": [
      "1\n",
      "2\n",
      "3\n",
      "4\n",
      "5\n",
      "6\n",
      "7\n",
      "8\n",
      "9\n",
      "10\n",
      "11\n",
      "12\n",
      "13\n",
      "14\n",
      "15\n"
     ]
    }
   ],
   "source": [
    "# `break`: Przerwanie pętli\n",
    "\n",
    "i = 1\n",
    "while i < 100:\n",
    "    print(i)\n",
    "    if i == 15:\n",
    "        break\n",
    "    i += 1"
   ]
  },
  {
   "cell_type": "code",
   "execution_count": 74,
   "metadata": {},
   "outputs": [
    {
     "name": "stdout",
     "output_type": "stream",
     "text": [
      "1\n",
      "2\n",
      "3\n",
      "4\n",
      "5\n",
      "6\n",
      "7\n",
      "8\n",
      "9\n",
      "10\n",
      "11\n",
      "12\n",
      "13\n",
      "14\n",
      "16\n",
      "17\n",
      "18\n",
      "19\n",
      "20\n"
     ]
    }
   ],
   "source": [
    "# `continue`: przeskakiwanie, pomijanie do następnego kroku iteracji\n",
    "\n",
    "i = 0\n",
    "while i < 20:\n",
    "    i += 1\n",
    "    if i == 15:\n",
    "        continue\n",
    "    print(i)"
   ]
  },
  {
   "cell_type": "code",
   "execution_count": 75,
   "metadata": {},
   "outputs": [
    {
     "name": "stdout",
     "output_type": "stream",
     "text": [
      "1\n",
      "2\n",
      "3\n",
      "4\n",
      "5\n",
      "6\n",
      "7\n",
      "8\n",
      "9\n",
      "10\n",
      "11\n",
      "12\n",
      "13\n",
      "14\n",
      "15\n",
      "16\n",
      "17\n",
      "18\n",
      "19\n",
      "i większe lub równe 20\n"
     ]
    }
   ],
   "source": [
    "# Użycie `else` razem z `while`\n",
    "i = 1\n",
    "while i < 20:\n",
    "    print(i)\n",
    "    i += 1\n",
    "else:\n",
    "    print('i większe lub równe 20')"
   ]
  }
 ],
 "metadata": {
  "kernelspec": {
   "display_name": "Python 3",
   "language": "python",
   "name": "python3"
  },
  "language_info": {
   "codemirror_mode": {
    "name": "ipython",
    "version": 3
   },
   "file_extension": ".py",
   "mimetype": "text/x-python",
   "name": "python",
   "nbconvert_exporter": "python",
   "pygments_lexer": "ipython3",
   "version": "3.10.6"
  },
  "orig_nbformat": 4,
  "vscode": {
   "interpreter": {
    "hash": "369f2c481f4da34e4445cda3fffd2e751bd1c4d706f27375911949ba6bb62e1c"
   }
  }
 },
 "nbformat": 4,
 "nbformat_minor": 2
}
