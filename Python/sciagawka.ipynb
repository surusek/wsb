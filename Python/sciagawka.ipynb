{
 "cells": [
  {
   "attachments": {},
   "cell_type": "markdown",
   "metadata": {},
   "source": [
    "Zwrócenie aktualnej ścieżki roboczej (gdzie są zapisane/czytane pliki)"
   ]
  },
  {
   "cell_type": "code",
   "execution_count": 31,
   "metadata": {},
   "outputs": [
    {
     "data": {
      "text/plain": [
       "'c:\\\\Users\\\\studentwsb\\\\Desktop\\\\_Surusek_'"
      ]
     },
     "execution_count": 31,
     "metadata": {},
     "output_type": "execute_result"
    }
   ],
   "source": [
    "import os\n",
    "os.getcwd()"
   ]
  },
  {
   "attachments": {},
   "cell_type": "markdown",
   "metadata": {},
   "source": [
    "Rodzaje zmiennych i ich przypisywanie"
   ]
  },
  {
   "cell_type": "code",
   "execution_count": 32,
   "metadata": {},
   "outputs": [
    {
     "name": "stdout",
     "output_type": "stream",
     "text": [
      "<class 'str'>\n",
      "<class 'int'>\n",
      "<class 'float'>\n",
      "<class 'complex'>\n",
      "<class 'bool'>\n"
     ]
    }
   ],
   "source": [
    "# Komentarz zwykły\n",
    "''' \n",
    "Komentarz\n",
    "wielolinijkowy (nadaje się również do dłuższych stringów)\n",
    "'''\n",
    "\n",
    "a = 'Napis' # String\n",
    "b = 1234    # Integer\n",
    "c = 1.0     # Float\n",
    "d = 1j      # Complex (zespolona)\n",
    "e = False   # Boolean\n",
    "\n",
    "print(type(a))\n",
    "print(type(b))\n",
    "print(type(c))\n",
    "print(type(d))\n",
    "print(type(e))\n",
    "\n",
    "# Można wypisać wartości po kolei:\n",
    "x, y = 'foo', 1234"
   ]
  },
  {
   "attachments": {},
   "cell_type": "markdown",
   "metadata": {},
   "source": [
    "Operatory (te nieoczywiste)"
   ]
  },
  {
   "cell_type": "code",
   "execution_count": 33,
   "metadata": {},
   "outputs": [
    {
     "data": {
      "text/plain": [
       "2"
      ]
     },
     "execution_count": 33,
     "metadata": {},
     "output_type": "execute_result"
    }
   ],
   "source": [
    "5 // 2 # Dzielenie całkowite"
   ]
  },
  {
   "cell_type": "code",
   "execution_count": 34,
   "metadata": {},
   "outputs": [
    {
     "data": {
      "text/plain": [
       "2.5"
      ]
     },
     "execution_count": 34,
     "metadata": {},
     "output_type": "execute_result"
    }
   ],
   "source": [
    "5 / 2 # Dzielenie: zawsze zwraca liczbę zmiennoprzecinkową"
   ]
  },
  {
   "cell_type": "code",
   "execution_count": 35,
   "metadata": {},
   "outputs": [
    {
     "data": {
      "text/plain": [
       "125"
      ]
     },
     "execution_count": 35,
     "metadata": {},
     "output_type": "execute_result"
    }
   ],
   "source": [
    "5 ** 3 # Potęgowanie"
   ]
  },
  {
   "attachments": {},
   "cell_type": "markdown",
   "metadata": {},
   "source": [
    "Przykład wyliczania: **BMI**"
   ]
  },
  {
   "cell_type": "code",
   "execution_count": 36,
   "metadata": {},
   "outputs": [
    {
     "name": "stdout",
     "output_type": "stream",
     "text": [
      "22.786458333333336\n"
     ]
    }
   ],
   "source": [
    "waga = 84\n",
    "wzrost = 1.92\n",
    "bmi = waga / (wzrost * wzrost)\n",
    "print(bmi)"
   ]
  },
  {
   "attachments": {},
   "cell_type": "markdown",
   "metadata": {},
   "source": [
    "Tablice"
   ]
  },
  {
   "cell_type": "code",
   "execution_count": 37,
   "metadata": {},
   "outputs": [
    {
     "name": "stdout",
     "output_type": "stream",
     "text": [
      "Jabłko\n",
      "Śliwka\n",
      "['Gruszka', 'Czereśnia']\n"
     ]
    }
   ],
   "source": [
    "lista = ['Jabłko', 'Gruszka', 'Czereśnia', 'Śliwka']\n",
    "print(lista[0])   # Po indeksie\n",
    "print(lista[-1])  # Od końca\n",
    "print(lista[1:3]) # Przedział"
   ]
  },
  {
   "cell_type": "code",
   "execution_count": 38,
   "metadata": {},
   "outputs": [
    {
     "name": "stdout",
     "output_type": "stream",
     "text": [
      "['Jabłko', 'Gruszka', 'Czereśnia', 'Śliwka', 'Śliwka']\n",
      "['Jabłko', 'Gruszka', 'Czereśnia', 'Śliwka']\n",
      "['Jabłko', 'Banan', 'Gruszka', 'Czereśnia', 'Śliwka']\n"
     ]
    }
   ],
   "source": [
    "lista.append('Śliwka')   # Dodaje na koniec listy\n",
    "print(lista)\n",
    "\n",
    "lista.remove('Śliwka')   # Usuwa pierwszy, który znajdzie\n",
    "print(lista)\n",
    "\n",
    "lista.insert(1, 'Banan') # Dorzucana na pozycję podaną w pierwszym argumencie (tu: 1)\n",
    "print(lista)"
   ]
  },
  {
   "cell_type": "code",
   "execution_count": 39,
   "metadata": {},
   "outputs": [
    {
     "name": "stdout",
     "output_type": "stream",
     "text": [
      "[1, 2, 3, 4, 5, 6]\n"
     ]
    }
   ],
   "source": [
    "l1 = [1, 2, 3]\n",
    "l2 = [4, 5, 6]\n",
    "l3 = l1 + l2   # Można dodawać do sb\n",
    "print(l3)"
   ]
  },
  {
   "cell_type": "code",
   "execution_count": 40,
   "metadata": {},
   "outputs": [
    {
     "name": "stdout",
     "output_type": "stream",
     "text": [
      "[1, 2, 3, 4, 5, 6, 6, 7, 8]\n"
     ]
    }
   ],
   "source": [
    "# Przechodzenie przez elementy tablicy\n",
    "for x in [6, 7, 8]:\n",
    "    l3.append(x)\n",
    "\n",
    "print(l3)"
   ]
  },
  {
   "attachments": {},
   "cell_type": "markdown",
   "metadata": {},
   "source": [
    "Krotki (`tuple`)"
   ]
  },
  {
   "cell_type": "code",
   "execution_count": 41,
   "metadata": {},
   "outputs": [
    {
     "name": "stdout",
     "output_type": "stream",
     "text": [
      "<class 'tuple'>\n"
     ]
    }
   ],
   "source": [
    "krotka = ('Jabłko', 'Banan', 'Gruszka', 'Czereśnia', \"Śliwka\")\n",
    "print(type(krotka))"
   ]
  },
  {
   "cell_type": "code",
   "execution_count": 42,
   "metadata": {},
   "outputs": [
    {
     "name": "stdout",
     "output_type": "stream",
     "text": [
      "5\n"
     ]
    }
   ],
   "source": [
    "# Przechodzenie przez elementy, dodawanie elementów są takie jak przy tablicach\n",
    "print(len(krotka)) # Wypisuje rozmiar: działa nie tylko na tuplach, ale też np. tablicach"
   ]
  },
  {
   "attachments": {},
   "cell_type": "markdown",
   "metadata": {},
   "source": [
    "Zamiana pomiędzy typami"
   ]
  },
  {
   "cell_type": "code",
   "execution_count": 43,
   "metadata": {},
   "outputs": [
    {
     "name": "stdout",
     "output_type": "stream",
     "text": [
      "<class 'str'>\n",
      "<class 'int'>\n",
      "<class 'float'>\n"
     ]
    }
   ],
   "source": [
    "x = str(5)\n",
    "y = int(5)\n",
    "z = float(5)\n",
    "\n",
    "print(type(x))\n",
    "print(type(y))\n",
    "print(type(z))"
   ]
  },
  {
   "attachments": {},
   "cell_type": "markdown",
   "metadata": {},
   "source": [
    "Zbiór (`set`)"
   ]
  },
  {
   "cell_type": "code",
   "execution_count": 44,
   "metadata": {},
   "outputs": [
    {
     "name": "stdout",
     "output_type": "stream",
     "text": [
      "{'Banan', 'Malina', 'Śliwka', 'Czereśnia', 'Gruszka', 'Jabłko'}\n"
     ]
    }
   ],
   "source": [
    "zbior = {'Jabłko', 'Banan', 'Śliwka', 'Gruszka', \"Malina\", 'Czereśnia', 'Śliwka', 'Śliwka'}\n",
    "print(zbior) # Powinna być tylko jedna śliwka: zbiory nie mają duplikatów\n",
    "             # Zbiory także nie są posortowane: mogą byc wypisane w dowolnej kolejności"
   ]
  },
  {
   "cell_type": "code",
   "execution_count": 45,
   "metadata": {},
   "outputs": [
    {
     "name": "stdout",
     "output_type": "stream",
     "text": [
      "{'Banan', 'Malina', 'Śliwka', 'Czereśnia', 'Truskawka', 'Gruszka', 'Jabłko'}\n",
      "{'Banan', 'Śliwka', 'Czereśnia', 'Truskawka', 'Gruszka', 'Jabłko'}\n"
     ]
    }
   ],
   "source": [
    "zbior.add('Truskawka') # Dodaj element\n",
    "print(zbior)\n",
    "\n",
    "zbior.remove('Malina') # Usuń pierwszy element\n",
    "print(zbior)"
   ]
  },
  {
   "cell_type": "code",
   "execution_count": 46,
   "metadata": {},
   "outputs": [
    {
     "data": {
      "text/plain": [
       "{1, 2, 3, 4, 5}"
      ]
     },
     "execution_count": 46,
     "metadata": {},
     "output_type": "execute_result"
    }
   ],
   "source": [
    "s1 = {1, 2, 3}\n",
    "s2 = {3, 4, 5}\n",
    "s1.union(s2) # Unia (łączenie zbiorów)"
   ]
  },
  {
   "cell_type": "code",
   "execution_count": null,
   "metadata": {},
   "outputs": [],
   "source": [
    "# Sprawdź, czy element jest w tablicy/krotce/zbiorze...\n",
    "print(4 in s1)"
   ]
  },
  {
   "attachments": {},
   "cell_type": "markdown",
   "metadata": {},
   "source": [
    "Słowniki (`dict`) -- do zrobienia"
   ]
  }
 ],
 "metadata": {
  "kernelspec": {
   "display_name": "Python 3",
   "language": "python",
   "name": "python3"
  },
  "language_info": {
   "codemirror_mode": {
    "name": "ipython",
    "version": 3
   },
   "file_extension": ".py",
   "mimetype": "text/x-python",
   "name": "python",
   "nbconvert_exporter": "python",
   "pygments_lexer": "ipython3",
   "version": "3.10.6"
  },
  "orig_nbformat": 4,
  "vscode": {
   "interpreter": {
    "hash": "369f2c481f4da34e4445cda3fffd2e751bd1c4d706f27375911949ba6bb62e1c"
   }
  }
 },
 "nbformat": 4,
 "nbformat_minor": 2
}
